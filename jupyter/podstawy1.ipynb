{
 "cells": [
  {
   "cell_type": "code",
   "execution_count": 1,
   "metadata": {},
   "outputs": [
    {
     "name": "stdout",
     "output_type": "stream",
     "text": [
      "Cześć\n"
     ]
    }
   ],
   "source": [
    "print(\"Cześć\")"
   ]
  },
  {
   "cell_type": "code",
   "execution_count": 16,
   "metadata": {},
   "outputs": [
    {
     "name": "stdout",
     "output_type": "stream",
     "text": [
      "Właściwie\n"
     ]
    }
   ],
   "source": [
    "#Syntax \n",
    "if 2 == 2:\n",
    "    print(\"Właściwie\")\n",
    "else:\n",
    "    print(\"Błąd\")"
   ]
  },
  {
   "cell_type": "code",
   "execution_count": 23,
   "metadata": {},
   "outputs": [
    {
     "name": "stdout",
     "output_type": "stream",
     "text": [
      "No dobra , to coś jak string tekstowy\n",
      "<class 'str'>\n"
     ]
    }
   ],
   "source": [
    "#Data Types\n",
    "#text type : String / str\n",
    "a = \"No dobra , to coś jak string tekstowy\"\n",
    "print(a)\n",
    "print(type(a))\n"
   ]
  },
  {
   "cell_type": "code",
   "execution_count": 30,
   "metadata": {},
   "outputs": [
    {
     "name": "stdout",
     "output_type": "stream",
     "text": [
      "40\n",
      "<class 'int'>\n",
      "<class 'int'>\n",
      "<class 'float'>\n"
     ]
    }
   ],
   "source": [
    "#Data Types\n",
    "#numeryczne : Integer / int, float, complex\n",
    "#int użyty\n",
    "a = 10\n",
    "b = 30\n",
    "c = 45.6\n",
    "print(a+b)\n",
    "print(type(a))\n",
    "print(type(b))\n",
    "print(type(c))"
   ]
  },
  {
   "cell_type": "code",
   "execution_count": 31,
   "metadata": {},
   "outputs": [
    {
     "name": "stdout",
     "output_type": "stream",
     "text": [
      "-5.600000000000001\n",
      "<class 'type'>\n"
     ]
    }
   ],
   "source": [
    "#float ignoruje typy tekstowe\n",
    "print (b+a-c)\n"
   ]
  },
  {
   "cell_type": "code",
   "execution_count": 34,
   "metadata": {},
   "outputs": [
    {
     "name": "stdout",
     "output_type": "stream",
     "text": [
      "['Windows', 'Linux', 'MacOS']\n",
      "<class 'list'>\n",
      "('Windows', 'Linux', 'MacOS')\n",
      "<class 'tuple'>\n"
     ]
    }
   ],
   "source": [
    "#Sequence types:list, tuple, range\n",
    "f = [\"Windows\",\"Linux\",\"MacOS\"]\n",
    "print(f)\n",
    "print(type(f))\n",
    "#roznica w nawiasie zmienia klase\n",
    "f1 = (\"Windows\",\"Linux\",\"MacOS\")\n",
    "print(f1)\n",
    "print(type(f1))"
   ]
  },
  {
   "cell_type": "code",
   "execution_count": 36,
   "metadata": {},
   "outputs": [
    {
     "name": "stdout",
     "output_type": "stream",
     "text": [
      "range(0, 200)\n",
      "<class 'range'>\n"
     ]
    }
   ],
   "source": [
    "#range\n",
    "r = range(200)\n",
    "print(r)\n",
    "print(type(r))"
   ]
  },
  {
   "cell_type": "code",
   "execution_count": null,
   "metadata": {},
   "outputs": [],
   "source": []
  }
 ],
 "metadata": {
  "kernelspec": {
   "display_name": "Python 3",
   "language": "python",
   "name": "python3"
  },
  "language_info": {
   "codemirror_mode": {
    "name": "ipython",
    "version": 3
   },
   "file_extension": ".py",
   "mimetype": "text/x-python",
   "name": "python",
   "nbconvert_exporter": "python",
   "pygments_lexer": "ipython3",
   "version": "3.8.5"
  }
 },
 "nbformat": 4,
 "nbformat_minor": 4
}
