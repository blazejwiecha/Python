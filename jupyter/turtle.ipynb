{
 "cells": [
  {
   "cell_type": "code",
   "execution_count": 1,
   "metadata": {},
   "outputs": [],
   "source": [
    "import turtle as t # turtle.py\n",
    "window = t.Screen() # okno programu\n",
    "turtle = t.Turtle() # element na którym rysujemy\n",
    "turtle.hideturtle() # usuwa strzałkę\n",
    "turtle.forward(150) # 50 pikseli prosto\n",
    "turtle.right(90) # obrót o 90 stopni\n",
    "turtle.forward(150)\n",
    "turtle.right(90)\n",
    "turtle.forward(150)\n",
    "turtle.right(90)\n",
    "turtle.forward(150)\n",
    "window.mainloop() # nie zamyka okna"
   ]
  },
  {
   "cell_type": "code",
   "execution_count": null,
   "metadata": {},
   "outputs": [],
   "source": []
  }
 ],
 "metadata": {
  "kernelspec": {
   "display_name": "Python 3",
   "language": "python",
   "name": "python3"
  },
  "language_info": {
   "codemirror_mode": {
    "name": "ipython",
    "version": 3
   },
   "file_extension": ".py",
   "mimetype": "text/x-python",
   "name": "python",
   "nbconvert_exporter": "python",
   "pygments_lexer": "ipython3",
   "version": "3.8.5"
  }
 },
 "nbformat": 4,
 "nbformat_minor": 4
}
